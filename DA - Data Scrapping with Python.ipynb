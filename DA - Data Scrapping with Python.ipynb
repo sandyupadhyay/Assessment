{
 "cells": [
  {
   "cell_type": "code",
   "execution_count": null,
   "id": "1e24530b-d45b-4afe-9e19-e357cf3b2a33",
   "metadata": {},
   "outputs": [],
   "source": [
    "## To define a Python script that fetches the web page contents and \n",
    "## parses it using Beautiful Soup to generate a soup object. \n",
    "## You can use different selectors with the soup object to find elements on the \n",
    "## web page and extract the desired information from it.\n"
   ]
  },
  {
   "cell_type": "code",
   "execution_count": 17,
   "id": "eca875bc-71f6-447d-99fb-9ec3e3860499",
   "metadata": {},
   "outputs": [
    {
     "name": "stdout",
     "output_type": "stream",
     "text": [
      "Requirement already satisfied: requests in c:\\users\\sandy\\anaconda3\\lib\\site-packages (2.32.2)\n",
      "Requirement already satisfied: charset-normalizer<4,>=2 in c:\\users\\sandy\\anaconda3\\lib\\site-packages (from requests) (2.0.4)\n",
      "Requirement already satisfied: idna<4,>=2.5 in c:\\users\\sandy\\anaconda3\\lib\\site-packages (from requests) (3.7)\n",
      "Requirement already satisfied: urllib3<3,>=1.21.1 in c:\\users\\sandy\\anaconda3\\lib\\site-packages (from requests) (2.2.2)\n",
      "Requirement already satisfied: certifi>=2017.4.17 in c:\\users\\sandy\\anaconda3\\lib\\site-packages (from requests) (2024.8.30)\n",
      "Note: you may need to restart the kernel to use updated packages.\n"
     ]
    }
   ],
   "source": [
    "pip install requests"
   ]
  },
  {
   "cell_type": "code",
   "execution_count": 19,
   "id": "0c496e52-7bd3-46ac-86ee-3bfc7e49dbe7",
   "metadata": {},
   "outputs": [
    {
     "name": "stdout",
     "output_type": "stream",
     "text": [
      "Requirement already satisfied: beautifulsoup4 in c:\\users\\sandy\\anaconda3\\lib\\site-packages (4.12.3)\n",
      "Requirement already satisfied: soupsieve>1.2 in c:\\users\\sandy\\anaconda3\\lib\\site-packages (from beautifulsoup4) (2.5)\n",
      "Note: you may need to restart the kernel to use updated packages.\n"
     ]
    }
   ],
   "source": [
    "pip install beautifulsoup4"
   ]
  },
  {
   "cell_type": "code",
   "execution_count": 1,
   "id": "1f8edee3-e929-4069-a4fa-335b6a3999e0",
   "metadata": {},
   "outputs": [
    {
     "name": "stdout",
     "output_type": "stream",
     "text": [
      "Successfully fetched the web page.\n",
      "Quote 1: “The world as we have created it is a process of our thinking. It cannot be changed without changing our thinking.”\n",
      "Quote 2: “It is our choices, Harry, that show what we truly are, far more than our abilities.”\n",
      "Quote 3: “There are only two ways to live your life. One is as though nothing is a miracle. The other is as though everything is a miracle.”\n",
      "Quote 4: “The person, be it gentleman or lady, who has not pleasure in a good novel, must be intolerably stupid.”\n",
      "Quote 5: “Imperfection is beauty, madness is genius and it's better to be absolutely ridiculous than absolutely boring.”\n",
      "Quote 6: “Try not to become a man of success. Rather become a man of value.”\n",
      "Quote 7: “It is better to be hated for what you are than to be loved for what you are not.”\n",
      "Quote 8: “I have not failed. I've just found 10,000 ways that won't work.”\n",
      "Quote 9: “A woman is like a tea bag; you never know how strong it is until it's in hot water.”\n",
      "Quote 10: “A day without sunshine is like, you know, night.”\n",
      "Author 1: Albert Einstein\n",
      "Author 2: J.K. Rowling\n",
      "Author 3: Albert Einstein\n",
      "Author 4: Jane Austen\n",
      "Author 5: Marilyn Monroe\n",
      "Author 6: Albert Einstein\n",
      "Author 7: André Gide\n",
      "Author 8: Thomas A. Edison\n",
      "Author 9: Eleanor Roosevelt\n",
      "Author 10: Steve Martin\n",
      "Tags for quote 1: change, deep-thoughts, thinking, world\n",
      "Tags for quote 2: abilities, choices\n",
      "Tags for quote 3: inspirational, life, live, miracle, miracles\n",
      "Tags for quote 4: aliteracy, books, classic, humor\n",
      "Tags for quote 5: be-yourself, inspirational\n",
      "Tags for quote 6: adulthood, success, value\n",
      "Tags for quote 7: life, love\n",
      "Tags for quote 8: edison, failure, inspirational, paraphrased\n",
      "Tags for quote 9: misattributed-eleanor-roosevelt\n",
      "Tags for quote 10: humor, obvious, simile\n"
     ]
    }
   ],
   "source": [
    "import requests\n",
    "from bs4 import BeautifulSoup\n",
    "\n",
    "url = \"http://quotes.toscrape.com\"\n",
    "response = requests.get(url)\n",
    "\n",
    "if response.status_code == 200:\n",
    "    print(\"Successfully fetched the web page.\")\n",
    "else:\n",
    "    print(f\"Failed to retrieve the web page. Status code: {response.status_code}\")\n",
    "    exit()\n",
    "\n",
    "soup = BeautifulSoup(response.text, 'html.parser')\n",
    "\n",
    "quotes = soup.find_all(\"span\", class_=\"text\")\n",
    "for index, quote in enumerate(quotes, 1):\n",
    "    print(f\"Quote {index}: {quote.text}\")\n",
    "\n",
    "authors = soup.find_all(\"small\", class_=\"author\")\n",
    "for index, author in enumerate(authors, 1):\n",
    "    print(f\"Author {index}: {author.text}\")\n",
    "\n",
    "tags = soup.find_all(\"div\", class_=\"tags\")\n",
    "for index, tag_div in enumerate(tags, 1):\n",
    "    tag_list = [tag.text for tag in tag_div.find_all(\"a\", class_=\"tag\")]\n",
    "    print(f\"Tags for quote {index}: {', '.join(tag_list)}\")\n"
   ]
  },
  {
   "cell_type": "code",
   "execution_count": null,
   "id": "a40fdf6e-6255-4d05-8547-60eb5d67ccbc",
   "metadata": {},
   "outputs": [],
   "source": []
  }
 ],
 "metadata": {
  "kernelspec": {
   "display_name": "Python 3 (ipykernel)",
   "language": "python",
   "name": "python3"
  },
  "language_info": {
   "codemirror_mode": {
    "name": "ipython",
    "version": 3
   },
   "file_extension": ".py",
   "mimetype": "text/x-python",
   "name": "python",
   "nbconvert_exporter": "python",
   "pygments_lexer": "ipython3",
   "version": "3.12.4"
  }
 },
 "nbformat": 4,
 "nbformat_minor": 5
}
